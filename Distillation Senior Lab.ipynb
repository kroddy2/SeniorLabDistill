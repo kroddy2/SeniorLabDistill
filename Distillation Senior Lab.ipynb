{
 "cells": [
  {
   "cell_type": "markdown",
   "metadata": {},
   "source": [
    "# Ethanol Water Distillation"
   ]
  },
  {
   "cell_type": "code",
   "execution_count": 5,
   "metadata": {},
   "outputs": [],
   "source": [
    "import numpy as np\n",
    "import matplotlib.pyplot as plt\n",
    "import math\n",
    "import ipywidgets as widgets\n",
    "from IPython.display import display"
   ]
  },
  {
   "cell_type": "code",
   "execution_count": 6,
   "metadata": {},
   "outputs": [],
   "source": [
    "def rectifying_x_to_y(R, xD, x):\n",
    "    slope = (R / (R+1))\n",
    "    yint = (xD / (R+1))\n",
    "    return (slope * x + yint)\n",
    "\n",
    "def rectifying_y_to_x(R, xD, y):\n",
    "    slope = ((R+1) / R)\n",
    "    yint = -(xD / R)\n",
    "    return (slope * y + yint)\n",
    "    "
   ]
  },
  {
   "cell_type": "code",
   "execution_count": 24,
   "metadata": {},
   "outputs": [
    {
     "data": {
      "application/vnd.jupyter.widget-view+json": {
       "model_id": "ac1bf218f16b4bbf965ec3244dcc3697",
       "version_major": 2,
       "version_minor": 0
      },
      "text/plain": [
       "interactive(children=(FloatSlider(value=0.95, description='$x_D$:', max=1.0, step=0.01), FloatLogSlider(value=…"
      ]
     },
     "metadata": {},
     "output_type": "display_data"
    }
   ],
   "source": [
    "x_eth_mol = [0, 1.9,  7.21,  9.66, 12.38, 16.61, 23.37, 26.08, 32.73, 39.65, 50.79, 51.98, 57.32, 67.63, 74.72, 89.43]\n",
    "y_eth_mol = [0,  17, 38.91, 43.75, 47.04, 50.89, 54.45,  55.8, 58.26, 61.22, 65.64, 65.99, 68.41, 73.85, 78.15, 89.43]\n",
    "x_eth_wt = []\n",
    "y_eth_wt = []\n",
    "x_axis = np.linspace(0,1,100)\n",
    "for i in range(len(x_eth_mol)):\n",
    "    x_eth_wt.append(x_eth_mol[i]*46.07 / (x_eth_mol[i]*46.07 + (100-x_eth_mol[i])*18.02))\n",
    "    y_eth_wt.append(y_eth_mol[i]*46.07 / (y_eth_mol[i]*46.07 + (100-y_eth_mol[i])*18.02))\n",
    "    \n",
    "yx_fit = np.poly1d(np.polyfit(x_eth_wt, y_eth_wt, 8))\n",
    "\n",
    "\n",
    "yx_fit_vals = []\n",
    "for i in range(len(x_axis)):\n",
    "    if (yx_fit(x_axis[i]) >= x_axis[i]):\n",
    "        yx_fit_vals.append(yx_fit(x_axis[i]))\n",
    "    else:\n",
    "        yx_fit_vals.append(x_axis[i])\n",
    "\n",
    "\n",
    "def distillation_plot(xD, R):\n",
    "    plt.figure(figsize=(6, 6))\n",
    "    plt.plot(x_axis, yx_fit_vals, label = 'Equilibrium Curve')\n",
    "    plt.plot(x_axis, x_axis, 'k--', label = '45° Line')\n",
    "    plt.scatter(x_eth_wt, y_eth_wt, s=25, alpha=0.5)\n",
    "    xF = 0.075\n",
    "    plt.plot([xF, xF],[xF, yx_fit(xF)], label = 'q-line Sat Liq')\n",
    "    \n",
    "    rect = []\n",
    "    op_color = 'green'\n",
    "    for i in range(int(xF*100), int(xD*100 +1)):\n",
    "        rect.append(rectifying_x_to_y(R, xD, x_axis[i]))\n",
    "        if (rectifying_x_to_y(R, xD, x_axis[i]) >= yx_fit(x_axis[i])):\n",
    "            op_color = 'red'\n",
    "    plt.plot(x_axis[int(xF*100): int(xD*100 +1)], rect, label = 'Operating Line', color = op_color)\n",
    "    \n",
    "    #MCCABE-THIELE ALGORITHM USING THE OPERATING LINES\n",
    "    N = 0\n",
    "    x1, x2, y1, y2 = xF, xF, yx_fit(xF), yx_fit(xF)\n",
    "    while (x1 < xD) and (rectifying_y_to_x(R, xD, y1) > x1):\n",
    "        N += 1\n",
    "        x2 = rectifying_y_to_x(R, xD, y1)\n",
    "        #print(x2)\n",
    "        plt.plot([x1, x2],[y1, y1], 'k--', alpha=0.3)\n",
    "        y2 = yx_fit(x2)\n",
    "        plt.plot([x2, x2],[y1, y2], 'k--', alpha=0.3)\n",
    "        x1 = x2\n",
    "        y1 = y2\n",
    "        #print(x1, x2, y1, y2)\n",
    "    \n",
    "    if op_color == 'green':\n",
    "        print(\"There are {} Theoretical stages\".format(N))\n",
    "    \n",
    "\n",
    "    plt.xlabel('$x_{EtOH}$', fontsize = 16)\n",
    "    plt.ylabel('$y_{EtOH}$', fontsize = 16)\n",
    "    plt.legend()\n",
    "    plt.xlim(0,1)\n",
    "    plt.ylim(0,1)\n",
    "\n",
    "    plt.gca().set_aspect('equal', adjustable='box')\n",
    "    plt.show()\n",
    "\n",
    "xD_slider = widgets.FloatSlider(value = 0.95, min=0, max=1,      step=0.01, description='$x_D$:',        readout_format='.2f')\n",
    "R_slider =  widgets.FloatLogSlider(value=1.0, base=10, min=-2, max=3, step=0.1,  description='Reflux Ratio:', readout_format='.1f')\n",
    "\n",
    "# Create the interactive plot\n",
    "interactive_plot = widgets.interactive(distillation_plot, xD=xD_slider, R = R_slider)\n",
    "\n",
    "display(interactive_plot)"
   ]
  },
  {
   "cell_type": "code",
   "execution_count": null,
   "metadata": {},
   "outputs": [],
   "source": []
  },
  {
   "cell_type": "code",
   "execution_count": null,
   "metadata": {},
   "outputs": [],
   "source": []
  }
 ],
 "metadata": {
  "kernelspec": {
   "display_name": "Python 3",
   "language": "python",
   "name": "python3"
  },
  "language_info": {
   "codemirror_mode": {
    "name": "ipython",
    "version": 3
   },
   "file_extension": ".py",
   "mimetype": "text/x-python",
   "name": "python",
   "nbconvert_exporter": "python",
   "pygments_lexer": "ipython3",
   "version": "3.8.5"
  }
 },
 "nbformat": 4,
 "nbformat_minor": 4
}
